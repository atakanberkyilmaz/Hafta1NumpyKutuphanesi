{
  "nbformat": 4,
  "nbformat_minor": 0,
  "metadata": {
    "colab": {
      "provenance": [],
      "include_colab_link": true
    },
    "kernelspec": {
      "name": "python3",
      "display_name": "Python 3"
    },
    "language_info": {
      "name": "python"
    }
  },
  "cells": [
    {
      "cell_type": "markdown",
      "metadata": {
        "id": "view-in-github",
        "colab_type": "text"
      },
      "source": [
        "<a href=\"https://colab.research.google.com/github/atakanberkyilmaz/Hafta1NumpyKutuphanesi/blob/main/Hafta_1_Numpy_K%C3%BCt%C3%BCphanesi.ipynb\" target=\"_parent\"><img src=\"https://colab.research.google.com/assets/colab-badge.svg\" alt=\"Open In Colab\"/></a>"
      ]
    },
    {
      "cell_type": "code",
      "execution_count": null,
      "metadata": {
        "id": "MP9dgL_N2j4L"
      },
      "outputs": [],
      "source": []
    },
    {
      "cell_type": "markdown",
      "source": [
        "# NUMPY Modülü\n",
        "[Numpy.Org](https://numpy.org/)"
      ],
      "metadata": {
        "id": "x-lscJ9VZiH0"
      }
    },
    {
      "cell_type": "code",
      "execution_count": null,
      "metadata": {
        "id": "A2bGdrmZZHOg"
      },
      "outputs": [],
      "source": [
        "#Liste 2.1\n",
        "import numpy as np\n"
      ]
    },
    {
      "cell_type": "markdown",
      "source": [
        "import komutu kütüphane ekler"
      ],
      "metadata": {
        "id": "38yyymyY4kkF"
      }
    },
    {
      "cell_type": "code",
      "source": [
        "#Liste 2.2\n",
        "\n",
        "iris=np.array([5.7,2.6,3.5,1.0])\n",
        "print(iris)\n"
      ],
      "metadata": {
        "id": "b3BiteJoZ3Gg"
      },
      "execution_count": null,
      "outputs": []
    },
    {
      "cell_type": "code",
      "source": [
        "#Liste 2.3\n",
        "print(np.array([[2,5,7]]))"
      ],
      "metadata": {
        "id": "07jwXSTPaIJQ"
      },
      "execution_count": null,
      "outputs": []
    },
    {
      "cell_type": "code",
      "source": [
        "#Liste 2.4\n",
        "print(np.array([[2,5,7], [3,6,8]]))"
      ],
      "metadata": {
        "colab": {
          "base_uri": "https://localhost:8080/"
        },
        "id": "NbyFN4ghabwg",
        "outputId": "3d312013-1011-4a95-94f7-30fb735c2373"
      },
      "execution_count": null,
      "outputs": [
        {
          "output_type": "stream",
          "name": "stdout",
          "text": [
            "[[2 5 7]\n",
            " [3 6 8]]\n"
          ]
        }
      ]
    },
    {
      "cell_type": "code",
      "source": [
        "#Liste 2.5\n",
        "print(np.zeros(3))"
      ],
      "metadata": {
        "colab": {
          "base_uri": "https://localhost:8080/"
        },
        "id": "WdN1ec0Aafxo",
        "outputId": "977581fc-18ff-41fc-eb27-d0c4941fe0cf"
      },
      "execution_count": null,
      "outputs": [
        {
          "output_type": "stream",
          "name": "stdout",
          "text": [
            "[0. 0. 0.]\n"
          ]
        }
      ]
    },
    {
      "cell_type": "code",
      "source": [
        "#Liste 2.6\n",
        "print(np.zeros((4,3))) #boyut değerleri"
      ],
      "metadata": {
        "colab": {
          "base_uri": "https://localhost:8080/"
        },
        "id": "8X-6wuMcai2A",
        "outputId": "99217025-0838-4dcf-eeed-4ac4c2c799ba"
      },
      "execution_count": null,
      "outputs": [
        {
          "output_type": "stream",
          "name": "stdout",
          "text": [
            "[[0. 0. 0.]\n",
            " [0. 0. 0.]\n",
            " [0. 0. 0.]\n",
            " [0. 0. 0.]]\n"
          ]
        }
      ]
    },
    {
      "cell_type": "code",
      "source": [
        "#Liste 2.7\n",
        "print(np.zeros((2,4,3)))"
      ],
      "metadata": {
        "colab": {
          "base_uri": "https://localhost:8080/"
        },
        "id": "OQpJgAZFal9p",
        "outputId": "fe2dee70-911c-41c9-d908-baf2f3b5272a"
      },
      "execution_count": null,
      "outputs": [
        {
          "output_type": "stream",
          "name": "stdout",
          "text": [
            "[[[0. 0. 0.]\n",
            "  [0. 0. 0.]\n",
            "  [0. 0. 0.]\n",
            "  [0. 0. 0.]]\n",
            "\n",
            " [[0. 0. 0.]\n",
            "  [0. 0. 0.]\n",
            "  [0. 0. 0.]\n",
            "  [0. 0. 0.]]]\n"
          ]
        }
      ]
    },
    {
      "cell_type": "code",
      "source": [
        "#Liste 2.8\n",
        "print(np.ones(4))"
      ],
      "metadata": {
        "colab": {
          "base_uri": "https://localhost:8080/"
        },
        "id": "i6x3I8YIao8Y",
        "outputId": "b89fe22f-df29-4248-a119-6dc00a6b2ad6"
      },
      "execution_count": null,
      "outputs": [
        {
          "output_type": "stream",
          "name": "stdout",
          "text": [
            "[1. 1. 1. 1.]\n"
          ]
        }
      ]
    },
    {
      "cell_type": "code",
      "source": [
        "#Liste 2.9\n",
        "print(np.full((2,2),\"Python\"))"
      ],
      "metadata": {
        "id": "Y7OeutblargQ"
      },
      "execution_count": null,
      "outputs": []
    },
    {
      "cell_type": "code",
      "source": [
        "#Liste 2.10\n",
        "print(np.arange(0, 1, 0.2))"
      ],
      "metadata": {
        "colab": {
          "base_uri": "https://localhost:8080/"
        },
        "id": "a5qfPycjauMg",
        "outputId": "40ef57e5-b93b-4657-f34a-82d598632057"
      },
      "execution_count": null,
      "outputs": [
        {
          "output_type": "stream",
          "name": "stdout",
          "text": [
            "[0.  0.2 0.4 0.6 0.8]\n"
          ]
        }
      ]
    },
    {
      "cell_type": "code",
      "source": [
        "#Liste 2.11\n",
        "print(np.linspace(0.0, 1.0, num=5))\n",
        "print(np.linspace(0.0, 1.0, num=5, endpoint=False)) #bu aralıkta bana 5 tane eleman oluştur endpoint=false -> bitiş değerini alma"
      ],
      "metadata": {
        "id": "mhhKCImoaxgg"
      },
      "execution_count": null,
      "outputs": []
    },
    {
      "cell_type": "code",
      "source": [
        "#Liste 2.12\n",
        "print(np.random.rand(2,2))\n",
        "print(np.random.randn(2,2)) #random sayı  üretmek için kullanılan fonksiyon -> float değerinde"
      ],
      "metadata": {
        "colab": {
          "base_uri": "https://localhost:8080/"
        },
        "id": "wLRYN4Mua1oh",
        "outputId": "c73f7596-e789-4a77-bcb3-2b77076fe376"
      },
      "execution_count": null,
      "outputs": [
        {
          "output_type": "stream",
          "name": "stdout",
          "text": [
            "[[0.57414389 0.81594619]\n",
            " [0.93279523 0.78487526]]\n",
            "[[ 0.80915877 -1.57626988]\n",
            " [ 0.3569506  -0.43604897]]\n"
          ]
        }
      ]
    },
    {
      "cell_type": "code",
      "source": [
        "#Liste 2.13\n",
        "print(np.random.randint(3,7, size=(2, 4))) #integerlardan oluşan random sayılar"
      ],
      "metadata": {
        "colab": {
          "base_uri": "https://localhost:8080/"
        },
        "id": "t0Vr0bXga4UA",
        "outputId": "40ec78bd-d08f-4e8f-b632-3ad7fc7661cd"
      },
      "execution_count": null,
      "outputs": [
        {
          "output_type": "stream",
          "name": "stdout",
          "text": [
            "[[6 5 4 3]\n",
            " [4 5 4 3]]\n"
          ]
        }
      ]
    },
    {
      "cell_type": "code",
      "source": [
        "#Liste 2.14\n",
        "dizi = np.arange(2.0, 9.0)\n",
        "print(dizi.dtype,dizi)"
      ],
      "metadata": {
        "colab": {
          "base_uri": "https://localhost:8080/"
        },
        "id": "oBgF_VoXa6rn",
        "outputId": "c1e0f7ae-0e8a-43d6-85f4-9fb8f9eac59f"
      },
      "execution_count": null,
      "outputs": [
        {
          "output_type": "stream",
          "name": "stdout",
          "text": [
            "float64 [2. 3. 4. 5. 6. 7. 8.]\n"
          ]
        }
      ]
    },
    {
      "cell_type": "code",
      "source": [
        "#Liste 2.15\n",
        "dizi = np.arange(1, 3, dtype=np.int64)\n",
        "print(dizi.itemsize)"
      ],
      "metadata": {
        "colab": {
          "base_uri": "https://localhost:8080/"
        },
        "id": "DqJFlscJdIrW",
        "outputId": "4fb3111e-651e-4eb5-9338-59b44e3d1c06"
      },
      "execution_count": null,
      "outputs": [
        {
          "output_type": "stream",
          "name": "stdout",
          "text": [
            "8\n"
          ]
        }
      ]
    },
    {
      "cell_type": "code",
      "source": [
        "#Liste 2.16\n",
        "dizi=np.arange(16)\n",
        "print(dizi)\n",
        "print(\"Boyut Sayısı:\", dizi.ndim)\n",
        "dizi.shape=(4,4)\n",
        "print(dizi)\n",
        "print(\"Boyut Sayısı:\", dizi.ndim)"
      ],
      "metadata": {
        "colab": {
          "base_uri": "https://localhost:8080/"
        },
        "id": "fSANVe5DdMBM",
        "outputId": "9e597681-d055-4cae-dcbe-47ffbee60c7d"
      },
      "execution_count": null,
      "outputs": [
        {
          "output_type": "stream",
          "name": "stdout",
          "text": [
            "[ 0  1  2  3  4  5  6  7  8  9 10 11 12 13 14 15]\n",
            "Boyut Sayısı: 1\n",
            "[[ 0  1  2  3]\n",
            " [ 4  5  6  7]\n",
            " [ 8  9 10 11]\n",
            " [12 13 14 15]]\n",
            "Boyut Sayısı: 2\n"
          ]
        }
      ]
    },
    {
      "cell_type": "code",
      "source": [
        "#Liste 2.17\n",
        "dizi=np.array([[2,5,7], [3,6,8]])\n",
        "print(dizi)\n",
        "x=dizi.ravel()\n",
        "print(x) #ravel dizileri tek boyuta indirmek için kullanılır"
      ],
      "metadata": {
        "colab": {
          "base_uri": "https://localhost:8080/"
        },
        "id": "kWJrIi77dO4E",
        "outputId": "48f34066-47b1-4be8-a868-877f4d4bba05"
      },
      "execution_count": null,
      "outputs": [
        {
          "output_type": "stream",
          "name": "stdout",
          "text": [
            "[[2 5 7]\n",
            " [3 6 8]]\n",
            "[2 5 7 3 6 8]\n"
          ]
        }
      ]
    },
    {
      "cell_type": "code",
      "source": [
        "#Liste 2.18\n",
        "dizi1 = np.array([4, 6, 8, 9])\n",
        "dizi2 = np.array([2, 4, 3, 5])\n",
        "print(\"Toplam  =\", dizi1 + dizi2)\n",
        "print(\"Fark  =\", dizi1 - dizi2)\n",
        "print(\"Çarpım  =\", dizi1 * dizi2)\n",
        "print(\"Bölüm (ondalık)  =\", dizi1 / dizi2)\n",
        "print(\"Bölüm (tam)  =\", dizi1 // dizi2)\n",
        "print(\"Bölümden kalan  =\", dizi1 % dizi2)\n",
        "print(\"Üst =\", dizi1 ** dizi2)"
      ],
      "metadata": {
        "colab": {
          "base_uri": "https://localhost:8080/"
        },
        "id": "KC-iFGLedR7L",
        "outputId": "4c28775b-48de-47c6-db93-ed1f52a418ab"
      },
      "execution_count": null,
      "outputs": [
        {
          "output_type": "stream",
          "name": "stdout",
          "text": [
            "Toplam  = [ 6 10 11 14]\n",
            "Fark  = [2 2 5 4]\n",
            "Çarpım  = [ 8 24 24 45]\n",
            "Bölüm (ondalık)  = [2.         1.5        2.66666667 1.8       ]\n",
            "Bölüm (tam)  = [2 1 2 1]\n",
            "Bölümden kalan  = [0 2 2 4]\n",
            "Üst = [   16  1296   512 59049]\n"
          ]
        }
      ]
    },
    {
      "cell_type": "code",
      "source": [
        "#Liste 2.19\n",
        "dizi = np.array([[1, 2.5, 6], [8, 20, 11]])\n",
        "for i in (dizi.min, dizi.max, dizi.sum, dizi.prod, dizi.std, dizi.var):\n",
        "    print(i.__name__, \"=\", i())"
      ],
      "metadata": {
        "colab": {
          "base_uri": "https://localhost:8080/"
        },
        "id": "DCj6Yz-5dU_d",
        "outputId": "81b26181-0eb7-4a2c-9075-afd0dc1dccf1"
      },
      "execution_count": null,
      "outputs": [
        {
          "output_type": "stream",
          "name": "stdout",
          "text": [
            "min = 1.0\n",
            "max = 20.0\n",
            "sum = 48.5\n",
            "prod = 26400.0\n",
            "std = 6.274396828027022\n",
            "var = 39.36805555555556\n"
          ]
        }
      ]
    },
    {
      "cell_type": "code",
      "source": [
        "#Liste 2.20\n",
        "dizi = np.array([[1, 2.5, 6], [8, 20, 11]])\n",
        "for i in (np.abs, np.sqrt, np.ceil, np.isnan):\n",
        "    print(\"\\n\", i.__name__)\n",
        "    print(i(dizi))"
      ],
      "metadata": {
        "colab": {
          "base_uri": "https://localhost:8080/"
        },
        "id": "CpCMAwRndXR7",
        "outputId": "1cd027ac-4a2f-4662-f302-0de7d759248c"
      },
      "execution_count": null,
      "outputs": [
        {
          "output_type": "stream",
          "name": "stdout",
          "text": [
            "\n",
            " absolute\n",
            "[[ 1.   2.5  6. ]\n",
            " [ 8.  20.  11. ]]\n",
            "\n",
            " sqrt\n",
            "[[1.         1.58113883 2.44948974]\n",
            " [2.82842712 4.47213595 3.31662479]]\n",
            "\n",
            " ceil\n",
            "[[ 1.  3.  6.]\n",
            " [ 8. 20. 11.]]\n",
            "\n",
            " isnan\n",
            "[[False False False]\n",
            " [False False False]]\n"
          ]
        }
      ]
    },
    {
      "cell_type": "code",
      "source": [
        "#Liste 2.21\n",
        "dizi=np.array([5,12,4,-2,15,6,8,0])"
      ],
      "metadata": {
        "id": "GPTSD5E6daid"
      },
      "execution_count": null,
      "outputs": []
    },
    {
      "cell_type": "code",
      "source": [
        "#Liste 2.22\n",
        "print(dizi[4])\n",
        "print(dizi[1:5])"
      ],
      "metadata": {
        "colab": {
          "base_uri": "https://localhost:8080/"
        },
        "id": "GPUWFYZqdeKN",
        "outputId": "f2ad6354-2dbe-47e2-940f-210903737602"
      },
      "execution_count": null,
      "outputs": [
        {
          "output_type": "stream",
          "name": "stdout",
          "text": [
            "15\n",
            "[12  4 -2 15]\n"
          ]
        }
      ]
    },
    {
      "cell_type": "code",
      "source": [
        "#Liste 2.23\n",
        "print(dizi[3:-1])"
      ],
      "metadata": {
        "colab": {
          "base_uri": "https://localhost:8080/"
        },
        "id": "AMq08C7gdgS9",
        "outputId": "e6b0b5ec-c332-40f8-be30-c3a39902f9b7"
      },
      "execution_count": null,
      "outputs": [
        {
          "output_type": "stream",
          "name": "stdout",
          "text": [
            "[-2 15  6  8]\n"
          ]
        }
      ]
    },
    {
      "cell_type": "code",
      "source": [
        "#Liste 2.24\n",
        "print(dizi[:4])"
      ],
      "metadata": {
        "colab": {
          "base_uri": "https://localhost:8080/"
        },
        "id": "2j7aBocsdicN",
        "outputId": "2d6f0ff5-ad79-4c43-d739-b94856d5fb84"
      },
      "execution_count": null,
      "outputs": [
        {
          "output_type": "stream",
          "name": "stdout",
          "text": [
            "[ 5 12  4 -2]\n"
          ]
        }
      ]
    },
    {
      "cell_type": "code",
      "source": [
        "#Liste 2.25\n",
        "print(dizi[1::2])"
      ],
      "metadata": {
        "colab": {
          "base_uri": "https://localhost:8080/"
        },
        "id": "_9hZNLrLdksu",
        "outputId": "be16a99e-15c7-4701-9606-f3e4c73bfd71"
      },
      "execution_count": null,
      "outputs": [
        {
          "output_type": "stream",
          "name": "stdout",
          "text": [
            "[12 -2  6  0]\n"
          ]
        }
      ]
    },
    {
      "cell_type": "code",
      "source": [
        "#Liste 2.26\n",
        "print(dizi[::-1]) #diziyi tersten yazdırmak için kullanılır"
      ],
      "metadata": {
        "colab": {
          "base_uri": "https://localhost:8080/"
        },
        "id": "iSw3RxoLdmrQ",
        "outputId": "a7125e2b-b525-4fd8-c490-8b085e3613f0"
      },
      "execution_count": null,
      "outputs": [
        {
          "output_type": "stream",
          "name": "stdout",
          "text": [
            "[ 0  8  6 15 -2  4 12  5]\n"
          ]
        }
      ]
    },
    {
      "cell_type": "code",
      "source": [
        "#Liste 2.27\n",
        "dizi[2:4]=11\n",
        "print(dizi)"
      ],
      "metadata": {
        "colab": {
          "base_uri": "https://localhost:8080/"
        },
        "id": "RVoB9fladpOu",
        "outputId": "e28b3ccd-d76c-4232-fa70-e3a101277665"
      },
      "execution_count": null,
      "outputs": [
        {
          "output_type": "stream",
          "name": "stdout",
          "text": [
            "[ 5 12 11 11 15  6  8  0]\n"
          ]
        }
      ]
    },
    {
      "cell_type": "code",
      "source": [
        "#Liste 2.28\n",
        "dizi=np.array([5,12,4,-2,15,6,8,0])\n",
        "print(dizi)\n",
        "yeniDizi=dizi[2:4]\n",
        "print(yeniDizi)\n",
        "dizi[2]=200\n",
        "print(yeniDizi)"
      ],
      "metadata": {
        "colab": {
          "base_uri": "https://localhost:8080/"
        },
        "id": "G0qwfj3sdr3e",
        "outputId": "32e59919-3e5e-4928-d16b-5b7dd8c002dd"
      },
      "execution_count": null,
      "outputs": [
        {
          "output_type": "stream",
          "name": "stdout",
          "text": [
            "[ 5 12  4 -2 15  6  8  0]\n",
            "[ 4 -2]\n",
            "[200  -2]\n"
          ]
        }
      ]
    },
    {
      "cell_type": "code",
      "source": [
        "#Liste 2.29\n",
        "dizi=np.array([5,12,4,-2,15,6,8,0])\n",
        "print(dizi)\n",
        "yeniDizi=dizi[2:4].copy()\n",
        "print(yeniDizi)\n",
        "dizi[2]=200\n",
        "print(yeniDizi)"
      ],
      "metadata": {
        "colab": {
          "base_uri": "https://localhost:8080/"
        },
        "id": "IADdi56Wdt88",
        "outputId": "02a793aa-865d-4d5a-f39c-ae86feea00bc"
      },
      "execution_count": null,
      "outputs": [
        {
          "output_type": "stream",
          "name": "stdout",
          "text": [
            "[ 5 12  4 -2 15  6  8  0]\n",
            "[ 4 -2]\n",
            "[ 4 -2]\n"
          ]
        }
      ]
    },
    {
      "cell_type": "code",
      "source": [
        "#Liste 2.30\n",
        "dizi=np.arange(12)\n",
        "dizi.shape=(3,4)\n",
        "print(dizi)\n",
        "print(dizi[2,3])\n",
        "print(dizi[0,:])\n",
        "print(dizi[:,2])"
      ],
      "metadata": {
        "colab": {
          "base_uri": "https://localhost:8080/"
        },
        "id": "HdfZswIpdwHp",
        "outputId": "62aaf8bc-481f-4cca-b40d-11fb76a038cb"
      },
      "execution_count": null,
      "outputs": [
        {
          "output_type": "stream",
          "name": "stdout",
          "text": [
            "[[ 0  1  2  3]\n",
            " [ 4  5  6  7]\n",
            " [ 8  9 10 11]]\n",
            "11\n",
            "[0 1 2 3]\n",
            "[ 2  6 10]\n"
          ]
        }
      ]
    },
    {
      "cell_type": "code",
      "source": [
        "#Liste 2.31\n",
        "print(dizi[:,(0,2)])\n",
        "print(dizi[(0,1),1:3])"
      ],
      "metadata": {
        "colab": {
          "base_uri": "https://localhost:8080/"
        },
        "id": "F-ZWrXvFdzKN",
        "outputId": "c20bcaf4-508b-4858-c2c0-33ccc64dbff5"
      },
      "execution_count": null,
      "outputs": [
        {
          "output_type": "stream",
          "name": "stdout",
          "text": [
            "[[ 0  2]\n",
            " [ 4  6]\n",
            " [ 8 10]]\n",
            "[[1 2]\n",
            " [5 6]]\n"
          ]
        }
      ]
    },
    {
      "cell_type": "code",
      "source": [
        "#Liste 2.32\n",
        "dizi=np.arange(12)\n",
        "dizi.shape=(3,2,2)\n",
        "print(dizi)\n",
        "print(dizi[1,1,0])\n",
        "print(dizi[1,:,0])"
      ],
      "metadata": {
        "colab": {
          "base_uri": "https://localhost:8080/"
        },
        "id": "3RtT7dDod1qN",
        "outputId": "878468a4-c568-4a87-b0b0-6845a89b7bf0"
      },
      "execution_count": null,
      "outputs": [
        {
          "output_type": "stream",
          "name": "stdout",
          "text": [
            "[[[ 0  1]\n",
            "  [ 2  3]]\n",
            "\n",
            " [[ 4  5]\n",
            "  [ 6  7]]\n",
            "\n",
            " [[ 8  9]\n",
            "  [10 11]]]\n",
            "6\n",
            "[4 6]\n"
          ]
        }
      ]
    },
    {
      "cell_type": "code",
      "source": [
        "#Liste 2.33\n",
        "dizi1 = np.full((2,4), 0.0)\n",
        "dizi2 = np.full((3,4), 1.0)\n",
        "dizi3 = np.full((4,4), 2.0)\n",
        "print(dizi1);print(dizi2);print(dizi3)\n",
        "dizi4 = np.concatenate((dizi1, dizi2, dizi3), axis=0)\n",
        "print(dizi4)"
      ],
      "metadata": {
        "colab": {
          "base_uri": "https://localhost:8080/"
        },
        "id": "nbseU5Dfd34D",
        "outputId": "fe59d439-f3e0-41bf-9934-4262a72775ea"
      },
      "execution_count": null,
      "outputs": [
        {
          "output_type": "stream",
          "name": "stdout",
          "text": [
            "[[0. 0. 0. 0.]\n",
            " [0. 0. 0. 0.]]\n",
            "[[1. 1. 1. 1.]\n",
            " [1. 1. 1. 1.]\n",
            " [1. 1. 1. 1.]]\n",
            "[[2. 2. 2. 2.]\n",
            " [2. 2. 2. 2.]\n",
            " [2. 2. 2. 2.]\n",
            " [2. 2. 2. 2.]]\n",
            "[[0. 0. 0. 0.]\n",
            " [0. 0. 0. 0.]\n",
            " [1. 1. 1. 1.]\n",
            " [1. 1. 1. 1.]\n",
            " [1. 1. 1. 1.]\n",
            " [2. 2. 2. 2.]\n",
            " [2. 2. 2. 2.]\n",
            " [2. 2. 2. 2.]\n",
            " [2. 2. 2. 2.]]\n"
          ]
        }
      ]
    },
    {
      "cell_type": "code",
      "source": [
        "#Liste 2.34\n",
        "dizi1 = np.full((2,4), 0.0)\n",
        "dizi2 = np.full((2,4), 1.0)\n",
        "print(dizi1);print(dizi2)\n",
        "dizi3 = np.concatenate((dizi1, dizi2), axis=1) #dizileri birleştirmeye yarar\n",
        "print(dizi3)"
      ],
      "metadata": {
        "colab": {
          "base_uri": "https://localhost:8080/"
        },
        "id": "yeS_rJ6Ad6gS",
        "outputId": "b460d373-4824-4c69-946e-a34ab429347b"
      },
      "execution_count": null,
      "outputs": [
        {
          "output_type": "stream",
          "name": "stdout",
          "text": [
            "[[0. 0. 0. 0.]\n",
            " [0. 0. 0. 0.]]\n",
            "[[1. 1. 1. 1.]\n",
            " [1. 1. 1. 1.]]\n",
            "[[0. 0. 0. 0. 1. 1. 1. 1.]\n",
            " [0. 0. 0. 0. 1. 1. 1. 1.]]\n"
          ]
        }
      ]
    },
    {
      "cell_type": "code",
      "source": [
        "#Liste 2.35\n",
        "dizi1= np.arange(12.0)\n",
        "print(np.split(dizi1,4)) #diziyi bölmeye yarıyor\n"
      ],
      "metadata": {
        "id": "tnuawTGsiok5",
        "outputId": "f8fa0bd2-4009-4324-fbe5-ee47df20bf4b",
        "colab": {
          "base_uri": "https://localhost:8080/"
        }
      },
      "execution_count": null,
      "outputs": [
        {
          "output_type": "stream",
          "name": "stdout",
          "text": [
            "[array([0., 1., 2.]), array([3., 4., 5.]), array([6., 7., 8.]), array([ 9., 10., 11.])]\n"
          ]
        }
      ]
    }
  ]
}